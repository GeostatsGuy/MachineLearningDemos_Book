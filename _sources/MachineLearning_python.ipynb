{
 "cells": [
  {
   "cell_type": "markdown",
   "id": "5796054b",
   "metadata": {},
   "source": [
    "<figure style=\"text-align: center;\">\n",
    "  <img src=\"_static/intro/title_page.png\" style=\"display: block; margin: 0 auto; width: 100%;\">\n",
    "</figure>\n",
    "\n",
    "### Machine Learning Python Code Snippets\n",
    "\n",
    "Michael J. Pyrcz, Professor, The University of Texas at Austin \n",
    "\n",
    "[Twitter](https://twitter.com/geostatsguy) | [GitHub](https://github.com/GeostatsGuy) | [Website](http://michaelpyrcz.com) | [GoogleScholar](https://scholar.google.com/citations?user=QVZ20eQAAAAJ&hl=en&oi=ao) | [Geostatistics Book](https://www.amazon.com/Geostatistical-Reservoir-Modeling-Michael-Pyrcz/dp/0199731446) | [YouTube](https://www.youtube.com/channel/UCLqEr-xV-ceHdXXXrTId5ig)  | [Applied Geostats in Python e-book](https://geostatsguy.github.io/GeostatsPyDemos_Book/intro.html) | [Applied Machine Learning in Python e-book](https://geostatsguy.github.io/MachineLearningDemos_Book/) | [LinkedIn](https://www.linkedin.com/in/michael-pyrcz-61a648a1)\n",
    "\n",
    "Chapter of e-book \"Applied Machine Learning in Python: a Hands-on Guide with Code\". \n",
    "\n",
    "```{admonition} Cite this e-Book as:\n",
    ":class: remove-from-content-only\n",
    "\n",
    "Pyrcz, M.J., 2024, *Applied Machine Learning in Python: A Hands-on Guide with Code* [e-book]. Zenodo. doi:10.5281/zenodo.15169138 [![DOI](https://zenodo.org/badge/863274676.svg)](https://doi.org/10.5281/zenodo.15169138) \n",
    "```\n",
    "\n",
    "The workflows in this book and more are available here:\n",
    "\n",
    "```{admonition} Cite the MachineLearningDemos GitHub Repository as:\n",
    ":class: remove-from-content-only\n",
    "\n",
    "Pyrcz, M.J., 2024, *MachineLearningDemos: Python Machine Learning Demonstration Workflows Repository* (0.0.3) [Software]. Zenodo. DOI: 10.5281/zenodo.13835312. GitHub repository: https://github.com/GeostatsGuy/MachineLearningDemos [![DOI](https://zenodo.org/badge/862519860.svg)](https://zenodo.org/doi/10.5281/zenodo.13835312)\n",
    "```\n",
    "\n",
    "By Michael J. Pyrcz <br />\n",
    "&copy; Copyright 2024."
   ]
  },
  {
   "cell_type": "markdown",
   "id": "e41c1943",
   "metadata": {},
   "source": [
    "This chapter is a set of **Machine Learning Python Code Snippets** to help folks build machine learning workflows in Python.\n",
    "\n",
    "**YouTube Lecture**: check out my live code walk-thoughs in my data science basics in Python playlist:\n",
    "\n",
    "* [Data Science Basics in Python Playlist](https://youtube.com/playlist?list=PLG19vXLQHvSAufDFgZEFAYQEwMJXklnQV&si=z9BF45XAod6brI8Z)\n",
    "\n",
    "These walkthrough support of my courses,\n",
    "\n",
    "* [Machine Learning Course](https://youtube.com/playlist?list=PLG19vXLQHvSC2ZKFIkgVpI9fCjkN38kwf&si=XonjO2wHdXffMpeI)\n",
    "\n",
    "* [Data Analytics and Geostatistics Course](https://youtube.com/playlist?list=PLG19vXLQHvSB-D4XKYieEku9GQMQyAzjJ&si=XobEAdz3ntDdp870)\n",
    "\n",
    "on YouTube with linked well-documented Python workflows and interactive dashboards. My goal is to share accessible, actionable, and repeatable educational content. If you want to know about my motivation, check out [Michael's Story](https://michaelpyrcz.com/my-story). \n",
    "\n",
    "#### Motivation\n",
    "\n",
    "I taught a high school hackathon with great students from all over Texas and beyond and I felt that they could use some additional resources in the form of a **code snippets** to help them over the hurdles of completing their first data science workflow in Python. \n",
    "\n",
    "Remember the definition of a code snippet is,\n",
    "\n",
    "* a small, reusable section of code that programmers can quickly insert into a larger codebase\n",
    "\n",
    "My goal is to,\n",
    "\n",
    "* **provide a set of minimum, simple code snippets** to accomplish basic data science modeling build steps\n",
    "\n",
    "* **avoid fancy additions**, like automatic diagnostics and plotting that are specific to the problem setting that will break with new data\n",
    "\n",
    "Therefore, improvements and additions to provide diagnostic outputs and plots are highly recommended.\n",
    "\n",
    "#### Import Required Packages\n",
    "\n",
    "We need some standard packages. These should have been installed with Anaconda 3."
   ]
  },
  {
   "cell_type": "code",
   "execution_count": 99,
   "id": "877ffa62",
   "metadata": {},
   "outputs": [],
   "source": [
    "import numpy as np                                            # arrays\n",
    "import pandas as pd                                           # dataframes\n",
    "import matplotlib.pyplot as plt                               # plotting\n",
    "from matplotlib.ticker import (MultipleLocator, AutoMinorLocator, AutoLocator) # control of axes ticks\n",
    "from sklearn.experimental import enable_iterative_imputer     # required for MICE imputation\n",
    "from sklearn.impute import IterativeImputer                   # MICE imputation\n",
    "from sklearn.model_selection import train_test_split          # train and test split\n",
    "from sklearn.linear_model import LinearRegression             # linear regression\n",
    "from sklearn.preprocessing import StandardScaler              # standardize the features\n",
    "from sklearn.preprocessing import MinMaxScaler                # min and max normalization\n",
    "from sklearn.neighbors import KNeighborsRegressor             # K-nearest neighbours\n",
    "from sklearn import tree                                      # decision tree\n",
    "from sklearn import metrics                                   # measures to check our models\n",
    "plt.rc('axes', axisbelow=True)                                # set axes and grids in the background for all plots\n",
    "import math                                                  \n",
    "seed = 13"
   ]
  },
  {
   "cell_type": "markdown",
   "id": "a27fea49",
   "metadata": {},
   "source": [
    "If you get a package import error, you may have to first install some of these packages. This can usually be accomplished by opening up a command window on Windows and then typing 'python -m pip install [package-name]'. More assistance is available with the respective package docs.  \n",
    "\n",
    "#### Declare Functions\n",
    "\n",
    "Here's the functions to improve code readability."
   ]
  },
  {
   "cell_type": "code",
   "execution_count": 5,
   "id": "8abbc843",
   "metadata": {},
   "outputs": [],
   "source": [
    "def add_grid():\n",
    "    plt.gca().grid(True, which='major',linewidth = 1.0); plt.gca().grid(True, which='minor',linewidth = 0.2) # add y grids\n",
    "    plt.gca().tick_params(which='major',length=7); plt.gca().tick_params(which='minor', length=4)\n",
    "    plt.gca().xaxis.set_minor_locator(AutoMinorLocator()); plt.gca().yaxis.set_minor_locator(AutoMinorLocator()) # turn on minor ticks   "
   ]
  },
  {
   "cell_type": "markdown",
   "id": "657a1b21-d50a-45a7-985d-81072e91bbe1",
   "metadata": {},
   "source": [
    "#### Load a Data Table, DataFrame"
   ]
  },
  {
   "cell_type": "code",
   "execution_count": 7,
   "id": "6ae01e22-3b09-40bc-8335-b30b1c6a9ca7",
   "metadata": {},
   "outputs": [
    {
     "data": {
      "text/html": [
       "<div>\n",
       "<style scoped>\n",
       "    .dataframe tbody tr th:only-of-type {\n",
       "        vertical-align: middle;\n",
       "    }\n",
       "\n",
       "    .dataframe tbody tr th {\n",
       "        vertical-align: top;\n",
       "    }\n",
       "\n",
       "    .dataframe thead th {\n",
       "        text-align: right;\n",
       "    }\n",
       "</style>\n",
       "<table border=\"1\" class=\"dataframe\">\n",
       "  <thead>\n",
       "    <tr style=\"text-align: right;\">\n",
       "      <th></th>\n",
       "      <th>WellIndex</th>\n",
       "      <th>Por</th>\n",
       "      <th>LogPerm</th>\n",
       "      <th>AI</th>\n",
       "      <th>Brittle</th>\n",
       "      <th>TOC</th>\n",
       "      <th>VR</th>\n",
       "      <th>Production</th>\n",
       "    </tr>\n",
       "  </thead>\n",
       "  <tbody>\n",
       "    <tr>\n",
       "      <th>0</th>\n",
       "      <td>1</td>\n",
       "      <td>15.91</td>\n",
       "      <td>1.67</td>\n",
       "      <td>NaN</td>\n",
       "      <td>14.05</td>\n",
       "      <td>1.36</td>\n",
       "      <td>1.85</td>\n",
       "      <td>177.381958</td>\n",
       "    </tr>\n",
       "    <tr>\n",
       "      <th>1</th>\n",
       "      <td>2</td>\n",
       "      <td>15.34</td>\n",
       "      <td>NaN</td>\n",
       "      <td>2.60</td>\n",
       "      <td>31.88</td>\n",
       "      <td>1.37</td>\n",
       "      <td>1.79</td>\n",
       "      <td>1479.767778</td>\n",
       "    </tr>\n",
       "    <tr>\n",
       "      <th>2</th>\n",
       "      <td>3</td>\n",
       "      <td>20.45</td>\n",
       "      <td>2.02</td>\n",
       "      <td>3.13</td>\n",
       "      <td>63.67</td>\n",
       "      <td>1.79</td>\n",
       "      <td>2.53</td>\n",
       "      <td>4421.221583</td>\n",
       "    </tr>\n",
       "    <tr>\n",
       "      <th>3</th>\n",
       "      <td>4</td>\n",
       "      <td>11.95</td>\n",
       "      <td>1.14</td>\n",
       "      <td>NaN</td>\n",
       "      <td>58.81</td>\n",
       "      <td>0.40</td>\n",
       "      <td>2.03</td>\n",
       "      <td>1488.317629</td>\n",
       "    </tr>\n",
       "    <tr>\n",
       "      <th>4</th>\n",
       "      <td>5</td>\n",
       "      <td>19.53</td>\n",
       "      <td>NaN</td>\n",
       "      <td>2.57</td>\n",
       "      <td>NaN</td>\n",
       "      <td>NaN</td>\n",
       "      <td>2.11</td>\n",
       "      <td>5261.094919</td>\n",
       "    </tr>\n",
       "  </tbody>\n",
       "</table>\n",
       "</div>"
      ],
      "text/plain": [
       "   WellIndex    Por  LogPerm    AI  Brittle   TOC    VR   Production\n",
       "0          1  15.91     1.67   NaN    14.05  1.36  1.85   177.381958\n",
       "1          2  15.34      NaN  2.60    31.88  1.37  1.79  1479.767778\n",
       "2          3  20.45     2.02  3.13    63.67  1.79  2.53  4421.221583\n",
       "3          4  11.95     1.14   NaN    58.81  0.40  2.03  1488.317629\n",
       "4          5  19.53      NaN  2.57      NaN   NaN  2.11  5261.094919"
      ]
     },
     "execution_count": 7,
     "metadata": {},
     "output_type": "execute_result"
    }
   ],
   "source": [
    "df = pd.read_csv(r\"https://raw.githubusercontent.com/GeostatsGuy/GeoDataSets/master/unconv_MV_missing.csv\") # load the data from my github repo\n",
    "df.head()                                                     # preview the first 5 samples of the DataFrame"
   ]
  },
  {
   "cell_type": "markdown",
   "id": "d9313004-b463-497b-9149-c06eba11bc80",
   "metadata": {},
   "source": [
    "#### Check the Summary Statistics"
   ]
  },
  {
   "cell_type": "code",
   "execution_count": 9,
   "id": "7c13db48-ec6b-4db5-b505-6605bb9bf39d",
   "metadata": {},
   "outputs": [
    {
     "data": {
      "text/html": [
       "<div>\n",
       "<style scoped>\n",
       "    .dataframe tbody tr th:only-of-type {\n",
       "        vertical-align: middle;\n",
       "    }\n",
       "\n",
       "    .dataframe tbody tr th {\n",
       "        vertical-align: top;\n",
       "    }\n",
       "\n",
       "    .dataframe thead th {\n",
       "        text-align: right;\n",
       "    }\n",
       "</style>\n",
       "<table border=\"1\" class=\"dataframe\">\n",
       "  <thead>\n",
       "    <tr style=\"text-align: right;\">\n",
       "      <th></th>\n",
       "      <th>WellIndex</th>\n",
       "      <th>Por</th>\n",
       "      <th>LogPerm</th>\n",
       "      <th>AI</th>\n",
       "      <th>Brittle</th>\n",
       "      <th>TOC</th>\n",
       "      <th>VR</th>\n",
       "      <th>Production</th>\n",
       "    </tr>\n",
       "  </thead>\n",
       "  <tbody>\n",
       "    <tr>\n",
       "      <th>count</th>\n",
       "      <td>1000.000000</td>\n",
       "      <td>913.000000</td>\n",
       "      <td>722.000000</td>\n",
       "      <td>881.000000</td>\n",
       "      <td>716.000000</td>\n",
       "      <td>735.000000</td>\n",
       "      <td>716.000000</td>\n",
       "      <td>1000.000000</td>\n",
       "    </tr>\n",
       "    <tr>\n",
       "      <th>mean</th>\n",
       "      <td>500.500000</td>\n",
       "      <td>14.898708</td>\n",
       "      <td>1.383061</td>\n",
       "      <td>2.984200</td>\n",
       "      <td>49.607696</td>\n",
       "      <td>0.999551</td>\n",
       "      <td>1.996173</td>\n",
       "      <td>2247.295809</td>\n",
       "    </tr>\n",
       "    <tr>\n",
       "      <th>std</th>\n",
       "      <td>288.819436</td>\n",
       "      <td>3.069919</td>\n",
       "      <td>0.405907</td>\n",
       "      <td>0.579875</td>\n",
       "      <td>14.814398</td>\n",
       "      <td>0.503423</td>\n",
       "      <td>0.313705</td>\n",
       "      <td>1464.256312</td>\n",
       "    </tr>\n",
       "    <tr>\n",
       "      <th>min</th>\n",
       "      <td>1.000000</td>\n",
       "      <td>5.400000</td>\n",
       "      <td>0.120000</td>\n",
       "      <td>0.960000</td>\n",
       "      <td>-1.500000</td>\n",
       "      <td>-0.250000</td>\n",
       "      <td>0.900000</td>\n",
       "      <td>2.713535</td>\n",
       "    </tr>\n",
       "    <tr>\n",
       "      <th>25%</th>\n",
       "      <td>250.750000</td>\n",
       "      <td>12.770000</td>\n",
       "      <td>1.120000</td>\n",
       "      <td>2.570000</td>\n",
       "      <td>39.995000</td>\n",
       "      <td>0.640000</td>\n",
       "      <td>1.817500</td>\n",
       "      <td>1191.369560</td>\n",
       "    </tr>\n",
       "    <tr>\n",
       "      <th>50%</th>\n",
       "      <td>500.500000</td>\n",
       "      <td>14.950000</td>\n",
       "      <td>1.375000</td>\n",
       "      <td>3.010000</td>\n",
       "      <td>49.815000</td>\n",
       "      <td>0.990000</td>\n",
       "      <td>2.000000</td>\n",
       "      <td>1976.487820</td>\n",
       "    </tr>\n",
       "    <tr>\n",
       "      <th>75%</th>\n",
       "      <td>750.250000</td>\n",
       "      <td>17.060000</td>\n",
       "      <td>1.650000</td>\n",
       "      <td>3.360000</td>\n",
       "      <td>58.955000</td>\n",
       "      <td>1.365000</td>\n",
       "      <td>2.190000</td>\n",
       "      <td>3023.594214</td>\n",
       "    </tr>\n",
       "    <tr>\n",
       "      <th>max</th>\n",
       "      <td>1000.000000</td>\n",
       "      <td>24.650000</td>\n",
       "      <td>2.580000</td>\n",
       "      <td>4.700000</td>\n",
       "      <td>93.470000</td>\n",
       "      <td>2.710000</td>\n",
       "      <td>2.900000</td>\n",
       "      <td>12568.644130</td>\n",
       "    </tr>\n",
       "  </tbody>\n",
       "</table>\n",
       "</div>"
      ],
      "text/plain": [
       "         WellIndex         Por     LogPerm          AI     Brittle  \\\n",
       "count  1000.000000  913.000000  722.000000  881.000000  716.000000   \n",
       "mean    500.500000   14.898708    1.383061    2.984200   49.607696   \n",
       "std     288.819436    3.069919    0.405907    0.579875   14.814398   \n",
       "min       1.000000    5.400000    0.120000    0.960000   -1.500000   \n",
       "25%     250.750000   12.770000    1.120000    2.570000   39.995000   \n",
       "50%     500.500000   14.950000    1.375000    3.010000   49.815000   \n",
       "75%     750.250000   17.060000    1.650000    3.360000   58.955000   \n",
       "max    1000.000000   24.650000    2.580000    4.700000   93.470000   \n",
       "\n",
       "              TOC          VR    Production  \n",
       "count  735.000000  716.000000   1000.000000  \n",
       "mean     0.999551    1.996173   2247.295809  \n",
       "std      0.503423    0.313705   1464.256312  \n",
       "min     -0.250000    0.900000      2.713535  \n",
       "25%      0.640000    1.817500   1191.369560  \n",
       "50%      0.990000    2.000000   1976.487820  \n",
       "75%      1.365000    2.190000   3023.594214  \n",
       "max      2.710000    2.900000  12568.644130  "
      ]
     },
     "execution_count": 9,
     "metadata": {},
     "output_type": "execute_result"
    }
   ],
   "source": [
    "df.describe()                                                 # calculate the summary statistics of each feature"
   ]
  },
  {
   "cell_type": "markdown",
   "id": "09874ea4-092f-4b50-b32f-5efe7c7b4d19",
   "metadata": {},
   "source": [
    "#### Select Features\n",
    "\n",
    "Build a new DataFrame with only the selected predictor feature.\n",
    "\n",
    "1. specify the selected predictor features\n",
    "\n",
    "2. specify the response feature\n",
    "\n",
    "3. build a list with both\n",
    "\n",
    "4. make a new DataFrame with first the predictor features and then the response feature as the last column"
   ]
  },
  {
   "cell_type": "code",
   "execution_count": 11,
   "id": "49b941d7-25e7-497b-a031-b3206cea058a",
   "metadata": {},
   "outputs": [
    {
     "data": {
      "text/html": [
       "<div>\n",
       "<style scoped>\n",
       "    .dataframe tbody tr th:only-of-type {\n",
       "        vertical-align: middle;\n",
       "    }\n",
       "\n",
       "    .dataframe tbody tr th {\n",
       "        vertical-align: top;\n",
       "    }\n",
       "\n",
       "    .dataframe thead th {\n",
       "        text-align: right;\n",
       "    }\n",
       "</style>\n",
       "<table border=\"1\" class=\"dataframe\">\n",
       "  <thead>\n",
       "    <tr style=\"text-align: right;\">\n",
       "      <th></th>\n",
       "      <th>Por</th>\n",
       "      <th>LogPerm</th>\n",
       "      <th>AI</th>\n",
       "      <th>Brittle</th>\n",
       "      <th>Production</th>\n",
       "    </tr>\n",
       "  </thead>\n",
       "  <tbody>\n",
       "    <tr>\n",
       "      <th>0</th>\n",
       "      <td>15.91</td>\n",
       "      <td>1.67</td>\n",
       "      <td>NaN</td>\n",
       "      <td>14.05</td>\n",
       "      <td>177.381958</td>\n",
       "    </tr>\n",
       "    <tr>\n",
       "      <th>1</th>\n",
       "      <td>15.34</td>\n",
       "      <td>NaN</td>\n",
       "      <td>2.60</td>\n",
       "      <td>31.88</td>\n",
       "      <td>1479.767778</td>\n",
       "    </tr>\n",
       "    <tr>\n",
       "      <th>2</th>\n",
       "      <td>20.45</td>\n",
       "      <td>2.02</td>\n",
       "      <td>3.13</td>\n",
       "      <td>63.67</td>\n",
       "      <td>4421.221583</td>\n",
       "    </tr>\n",
       "    <tr>\n",
       "      <th>3</th>\n",
       "      <td>11.95</td>\n",
       "      <td>1.14</td>\n",
       "      <td>NaN</td>\n",
       "      <td>58.81</td>\n",
       "      <td>1488.317629</td>\n",
       "    </tr>\n",
       "    <tr>\n",
       "      <th>4</th>\n",
       "      <td>19.53</td>\n",
       "      <td>NaN</td>\n",
       "      <td>2.57</td>\n",
       "      <td>NaN</td>\n",
       "      <td>5261.094919</td>\n",
       "    </tr>\n",
       "  </tbody>\n",
       "</table>\n",
       "</div>"
      ],
      "text/plain": [
       "     Por  LogPerm    AI  Brittle   Production\n",
       "0  15.91     1.67   NaN    14.05   177.381958\n",
       "1  15.34      NaN  2.60    31.88  1479.767778\n",
       "2  20.45     2.02  3.13    63.67  4421.221583\n",
       "3  11.95     1.14   NaN    58.81  1488.317629\n",
       "4  19.53      NaN  2.57      NaN  5261.094919"
      ]
     },
     "execution_count": 11,
     "metadata": {},
     "output_type": "execute_result"
    }
   ],
   "source": [
    "selected_predictor_features = ['Por','LogPerm','AI','Brittle'] # set the selected predictor features\n",
    "response_feature = ['Production']                             # set the response feature\n",
    "features = selected_predictor_features + response_feature     # build a list of selected predictor and response features\n",
    "df_selected = df.loc[:,features]                              # slice the DataFrame\n",
    "df_selected.head()"
   ]
  },
  {
   "cell_type": "markdown",
   "id": "98f22d68-a54a-4fb4-b4e4-cadede877234",
   "metadata": {},
   "source": [
    "#### Separate Predictors and Response Features\n",
    "\n",
    "Separate DataFrame into,\n",
    "\n",
    "* predictor features DataFrame, X\n",
    "\n",
    "* response feature DataFrame, y"
   ]
  },
  {
   "cell_type": "code",
   "execution_count": 13,
   "id": "6fd339b9-e289-4590-8d5b-72df84b51441",
   "metadata": {},
   "outputs": [
    {
     "name": "stdout",
     "output_type": "stream",
     "text": [
      "Predictor Features: Index(['Por', 'LogPerm', 'AI', 'Brittle'], dtype='object')\n",
      "Response Feature: Index(['Production'], dtype='object')\n"
     ]
    }
   ],
   "source": [
    "X = df_selected.loc[:,selected_predictor_features]            # slice a X, predictor \n",
    "y = df_selected.loc[:,response_feature]\n",
    "print('Predictor Features: ' + str(X.columns))\n",
    "print('Response Feature: ' + str(y.columns))"
   ]
  },
  {
   "cell_type": "markdown",
   "id": "9d65e06a-d9cf-4dfd-ac84-39b49ab8ce99",
   "metadata": {},
   "source": [
    "#### Impute Missing Values\n",
    "\n",
    "Impute the missing values in the predictor features"
   ]
  },
  {
   "cell_type": "code",
   "execution_count": 15,
   "id": "9be6e45b-0102-4097-a82d-cb70d04d7c8f",
   "metadata": {},
   "outputs": [
    {
     "data": {
      "text/html": [
       "<div>\n",
       "<style scoped>\n",
       "    .dataframe tbody tr th:only-of-type {\n",
       "        vertical-align: middle;\n",
       "    }\n",
       "\n",
       "    .dataframe tbody tr th {\n",
       "        vertical-align: top;\n",
       "    }\n",
       "\n",
       "    .dataframe thead th {\n",
       "        text-align: right;\n",
       "    }\n",
       "</style>\n",
       "<table border=\"1\" class=\"dataframe\">\n",
       "  <thead>\n",
       "    <tr style=\"text-align: right;\">\n",
       "      <th></th>\n",
       "      <th>Por</th>\n",
       "      <th>LogPerm</th>\n",
       "      <th>AI</th>\n",
       "      <th>Brittle</th>\n",
       "    </tr>\n",
       "  </thead>\n",
       "  <tbody>\n",
       "    <tr>\n",
       "      <th>count</th>\n",
       "      <td>1000.000000</td>\n",
       "      <td>1000.000000</td>\n",
       "      <td>1000.000000</td>\n",
       "      <td>1000.000000</td>\n",
       "    </tr>\n",
       "    <tr>\n",
       "      <th>mean</th>\n",
       "      <td>14.927466</td>\n",
       "      <td>1.398243</td>\n",
       "      <td>2.986745</td>\n",
       "      <td>49.730514</td>\n",
       "    </tr>\n",
       "    <tr>\n",
       "      <th>std</th>\n",
       "      <td>2.993056</td>\n",
       "      <td>0.383795</td>\n",
       "      <td>0.554284</td>\n",
       "      <td>12.668842</td>\n",
       "    </tr>\n",
       "    <tr>\n",
       "      <th>min</th>\n",
       "      <td>5.400000</td>\n",
       "      <td>0.120000</td>\n",
       "      <td>0.960000</td>\n",
       "      <td>-1.500000</td>\n",
       "    </tr>\n",
       "    <tr>\n",
       "      <th>25%</th>\n",
       "      <td>12.870000</td>\n",
       "      <td>1.149295</td>\n",
       "      <td>2.600000</td>\n",
       "      <td>43.371234</td>\n",
       "    </tr>\n",
       "    <tr>\n",
       "      <th>50%</th>\n",
       "      <td>15.005088</td>\n",
       "      <td>1.394000</td>\n",
       "      <td>3.010000</td>\n",
       "      <td>49.874817</td>\n",
       "    </tr>\n",
       "    <tr>\n",
       "      <th>75%</th>\n",
       "      <td>16.982500</td>\n",
       "      <td>1.650000</td>\n",
       "      <td>3.330000</td>\n",
       "      <td>55.953832</td>\n",
       "    </tr>\n",
       "    <tr>\n",
       "      <th>max</th>\n",
       "      <td>24.650000</td>\n",
       "      <td>2.580000</td>\n",
       "      <td>4.700000</td>\n",
       "      <td>93.470000</td>\n",
       "    </tr>\n",
       "  </tbody>\n",
       "</table>\n",
       "</div>"
      ],
      "text/plain": [
       "               Por      LogPerm           AI      Brittle\n",
       "count  1000.000000  1000.000000  1000.000000  1000.000000\n",
       "mean     14.927466     1.398243     2.986745    49.730514\n",
       "std       2.993056     0.383795     0.554284    12.668842\n",
       "min       5.400000     0.120000     0.960000    -1.500000\n",
       "25%      12.870000     1.149295     2.600000    43.371234\n",
       "50%      15.005088     1.394000     3.010000    49.874817\n",
       "75%      16.982500     1.650000     3.330000    55.953832\n",
       "max      24.650000     2.580000     4.700000    93.470000"
      ]
     },
     "execution_count": 15,
     "metadata": {},
     "output_type": "execute_result"
    }
   ],
   "source": [
    "mice_imputer = IterativeImputer(random_state = seed)          # instantiate Multiple Imputation by Chained Equations (MICE) imputer\n",
    "X_imputed = mice_imputer.fit_transform(X)                     # train and apply MICE to impute the missing data\n",
    "X_imputed = pd.DataFrame(X_imputed, columns=X.columns, index=X.index) # make imputed results into a DataFrame with same columns as X\n",
    "X_imputed.describe()                                          # preview the DataFrame"
   ]
  },
  {
   "cell_type": "markdown",
   "id": "fd4ae8c8-e06d-4a32-a5d3-a1b392339658",
   "metadata": {},
   "source": [
    "#### Normalized Predictor Features\n",
    "\n",
    "Normalize the predictor features to remove any sensitivity to feature range or variance, for example,\n",
    "\n",
    "* put features all on equal playing field for distance calculations\n",
    "\n",
    "Min / max normalization forces the minimum to be 0.0 and the maximum to be 1.0"
   ]
  },
  {
   "cell_type": "code",
   "execution_count": 17,
   "id": "c7efe487-d639-4d9b-beac-7c2500cd536c",
   "metadata": {},
   "outputs": [
    {
     "data": {
      "text/html": [
       "<div>\n",
       "<style scoped>\n",
       "    .dataframe tbody tr th:only-of-type {\n",
       "        vertical-align: middle;\n",
       "    }\n",
       "\n",
       "    .dataframe tbody tr th {\n",
       "        vertical-align: top;\n",
       "    }\n",
       "\n",
       "    .dataframe thead th {\n",
       "        text-align: right;\n",
       "    }\n",
       "</style>\n",
       "<table border=\"1\" class=\"dataframe\">\n",
       "  <thead>\n",
       "    <tr style=\"text-align: right;\">\n",
       "      <th></th>\n",
       "      <th>Por</th>\n",
       "      <th>LogPerm</th>\n",
       "      <th>AI</th>\n",
       "      <th>Brittle</th>\n",
       "    </tr>\n",
       "  </thead>\n",
       "  <tbody>\n",
       "    <tr>\n",
       "      <th>count</th>\n",
       "      <td>1000.000000</td>\n",
       "      <td>1000.000000</td>\n",
       "      <td>1000.000000</td>\n",
       "      <td>1000.000000</td>\n",
       "    </tr>\n",
       "    <tr>\n",
       "      <th>mean</th>\n",
       "      <td>0.494933</td>\n",
       "      <td>0.519611</td>\n",
       "      <td>0.541910</td>\n",
       "      <td>0.539439</td>\n",
       "    </tr>\n",
       "    <tr>\n",
       "      <th>std</th>\n",
       "      <td>0.155483</td>\n",
       "      <td>0.156014</td>\n",
       "      <td>0.148204</td>\n",
       "      <td>0.133398</td>\n",
       "    </tr>\n",
       "    <tr>\n",
       "      <th>min</th>\n",
       "      <td>0.000000</td>\n",
       "      <td>0.000000</td>\n",
       "      <td>0.000000</td>\n",
       "      <td>0.000000</td>\n",
       "    </tr>\n",
       "    <tr>\n",
       "      <th>25%</th>\n",
       "      <td>0.388052</td>\n",
       "      <td>0.418413</td>\n",
       "      <td>0.438503</td>\n",
       "      <td>0.472478</td>\n",
       "    </tr>\n",
       "    <tr>\n",
       "      <th>50%</th>\n",
       "      <td>0.498966</td>\n",
       "      <td>0.517886</td>\n",
       "      <td>0.548128</td>\n",
       "      <td>0.540958</td>\n",
       "    </tr>\n",
       "    <tr>\n",
       "      <th>75%</th>\n",
       "      <td>0.601688</td>\n",
       "      <td>0.621951</td>\n",
       "      <td>0.633690</td>\n",
       "      <td>0.604968</td>\n",
       "    </tr>\n",
       "    <tr>\n",
       "      <th>max</th>\n",
       "      <td>1.000000</td>\n",
       "      <td>1.000000</td>\n",
       "      <td>1.000000</td>\n",
       "      <td>1.000000</td>\n",
       "    </tr>\n",
       "  </tbody>\n",
       "</table>\n",
       "</div>"
      ],
      "text/plain": [
       "               Por      LogPerm           AI      Brittle\n",
       "count  1000.000000  1000.000000  1000.000000  1000.000000\n",
       "mean      0.494933     0.519611     0.541910     0.539439\n",
       "std       0.155483     0.156014     0.148204     0.133398\n",
       "min       0.000000     0.000000     0.000000     0.000000\n",
       "25%       0.388052     0.418413     0.438503     0.472478\n",
       "50%       0.498966     0.517886     0.548128     0.540958\n",
       "75%       0.601688     0.621951     0.633690     0.604968\n",
       "max       1.000000     1.000000     1.000000     1.000000"
      ]
     },
     "execution_count": 17,
     "metadata": {},
     "output_type": "execute_result"
    }
   ],
   "source": [
    "normalizer = MinMaxScaler()                                   # instantiate min / max normalizer  \n",
    "norm_array = normalizer.fit_transform(X_imputed)              # normalize the predictor features                 \n",
    "X_imputed_norm = pd.DataFrame(norm_array, columns=X_imputed.columns) # convert output to a DataFrame\n",
    "X_imputed_norm.describe()                                     # preview the DataFrame"
   ]
  },
  {
   "cell_type": "markdown",
   "id": "01368d68-3f4d-451a-b386-4a76d829884a",
   "metadata": {},
   "source": [
    "#### Standardize Predictor Features\n",
    "\n",
    "Standardize the predictor features to remove any sensitivity to feature range or variance, for example,\n",
    "\n",
    "* put features all on equal playing field for distance calculations\n",
    "\n",
    "Standardization forces the mean to be 0.0 and the standard deviation to be 1.0"
   ]
  },
  {
   "cell_type": "code",
   "execution_count": 19,
   "id": "69fb92dd-eaa9-4ee4-86c2-560215e71fc1",
   "metadata": {},
   "outputs": [
    {
     "data": {
      "text/html": [
       "<div>\n",
       "<style scoped>\n",
       "    .dataframe tbody tr th:only-of-type {\n",
       "        vertical-align: middle;\n",
       "    }\n",
       "\n",
       "    .dataframe tbody tr th {\n",
       "        vertical-align: top;\n",
       "    }\n",
       "\n",
       "    .dataframe thead th {\n",
       "        text-align: right;\n",
       "    }\n",
       "</style>\n",
       "<table border=\"1\" class=\"dataframe\">\n",
       "  <thead>\n",
       "    <tr style=\"text-align: right;\">\n",
       "      <th></th>\n",
       "      <th>Por</th>\n",
       "      <th>LogPerm</th>\n",
       "      <th>AI</th>\n",
       "      <th>Brittle</th>\n",
       "    </tr>\n",
       "  </thead>\n",
       "  <tbody>\n",
       "    <tr>\n",
       "      <th>count</th>\n",
       "      <td>1.000000e+03</td>\n",
       "      <td>1.000000e+03</td>\n",
       "      <td>1.000000e+03</td>\n",
       "      <td>1.000000e+03</td>\n",
       "    </tr>\n",
       "    <tr>\n",
       "      <th>mean</th>\n",
       "      <td>2.735590e-16</td>\n",
       "      <td>-4.263256e-17</td>\n",
       "      <td>-3.774758e-16</td>\n",
       "      <td>3.463896e-17</td>\n",
       "    </tr>\n",
       "    <tr>\n",
       "      <th>std</th>\n",
       "      <td>1.000500e+00</td>\n",
       "      <td>1.000500e+00</td>\n",
       "      <td>1.000500e+00</td>\n",
       "      <td>1.000500e+00</td>\n",
       "    </tr>\n",
       "    <tr>\n",
       "      <th>min</th>\n",
       "      <td>-3.184783e+00</td>\n",
       "      <td>-3.332201e+00</td>\n",
       "      <td>-3.658339e+00</td>\n",
       "      <td>-4.045843e+00</td>\n",
       "    </tr>\n",
       "    <tr>\n",
       "      <th>25%</th>\n",
       "      <td>-6.877572e-01</td>\n",
       "      <td>-6.489712e-01</td>\n",
       "      <td>-6.980867e-01</td>\n",
       "      <td>-5.022134e-01</td>\n",
       "    </tr>\n",
       "    <tr>\n",
       "      <th>50%</th>\n",
       "      <td>2.594700e-02</td>\n",
       "      <td>-1.106139e-02</td>\n",
       "      <td>4.197623e-02</td>\n",
       "      <td>1.139608e-02</td>\n",
       "    </tr>\n",
       "    <tr>\n",
       "      <th>75%</th>\n",
       "      <td>6.869440e-01</td>\n",
       "      <td>6.562959e-01</td>\n",
       "      <td>6.195864e-01</td>\n",
       "      <td>4.914760e-01</td>\n",
       "    </tr>\n",
       "    <tr>\n",
       "      <th>max</th>\n",
       "      <td>3.249989e+00</td>\n",
       "      <td>3.080677e+00</td>\n",
       "      <td>3.092480e+00</td>\n",
       "      <td>3.454252e+00</td>\n",
       "    </tr>\n",
       "  </tbody>\n",
       "</table>\n",
       "</div>"
      ],
      "text/plain": [
       "                Por       LogPerm            AI       Brittle\n",
       "count  1.000000e+03  1.000000e+03  1.000000e+03  1.000000e+03\n",
       "mean   2.735590e-16 -4.263256e-17 -3.774758e-16  3.463896e-17\n",
       "std    1.000500e+00  1.000500e+00  1.000500e+00  1.000500e+00\n",
       "min   -3.184783e+00 -3.332201e+00 -3.658339e+00 -4.045843e+00\n",
       "25%   -6.877572e-01 -6.489712e-01 -6.980867e-01 -5.022134e-01\n",
       "50%    2.594700e-02 -1.106139e-02  4.197623e-02  1.139608e-02\n",
       "75%    6.869440e-01  6.562959e-01  6.195864e-01  4.914760e-01\n",
       "max    3.249989e+00  3.080677e+00  3.092480e+00  3.454252e+00"
      ]
     },
     "execution_count": 19,
     "metadata": {},
     "output_type": "execute_result"
    }
   ],
   "source": [
    "scaler = StandardScaler()                                     # instantiate standardizer  \n",
    "standard_array = scaler.fit_transform(X_imputed)              # standardize the predictor features    \n",
    "X_imputed_stand = pd.DataFrame(standard_array, columns=X_imputed.columns) # convert output to a DataFrame\n",
    "X_imputed_stand.describe()                                    # preview the DataFrame"
   ]
  },
  {
   "cell_type": "markdown",
   "id": "1b6aa174-fb54-45dd-9438-626c397c9ba5",
   "metadata": {},
   "source": [
    "#### Train and Test Split\n",
    "\n",
    "Random splitting of the data into train and test splits."
   ]
  },
  {
   "cell_type": "code",
   "execution_count": 21,
   "id": "4607308a-a3e4-44d5-8898-b6c7b439bb28",
   "metadata": {},
   "outputs": [],
   "source": [
    "test_proportion = 0.2                                         # set the proportion of withheld testing data\n",
    "X_imputed_norm_train, X_imputed_norm_test, y_train, y_test = train_test_split(X_imputed_norm, y, test_size=test_proportion, random_state=seed) # train and test split"
   ]
  },
  {
   "cell_type": "markdown",
   "id": "731393af-3331-44da-b140-09e310e4b6d1",
   "metadata": {},
   "source": [
    "#### Train Linear Regression Model\n",
    "\n",
    "Train model parameters on training data, no hyperparameters"
   ]
  },
  {
   "cell_type": "code",
   "execution_count": 23,
   "id": "7fb7fb89-36b2-4c69-ba7c-54639c46595a",
   "metadata": {},
   "outputs": [],
   "source": [
    "linear_model = LinearRegression().fit(X_imputed_norm_train,y_train) # instantiate and train linear regression model, no hyperparmeters"
   ]
  },
  {
   "cell_type": "markdown",
   "id": "a795de39-1d7e-4564-870c-58061cf462ea",
   "metadata": {},
   "source": [
    "#### Predict with Linear Model on Training Data"
   ]
  },
  {
   "cell_type": "code",
   "execution_count": 25,
   "id": "2ad2a36b-e7a4-4131-aec6-de7796cded48",
   "metadata": {},
   "outputs": [],
   "source": [
    "y_train_predict = linear_model.predict(X_imputed_norm_train)  # predict over the training data"
   ]
  },
  {
   "cell_type": "markdown",
   "id": "27380cb5-4ebd-483e-8751-f58aa30ff8ba",
   "metadata": {},
   "source": [
    "#### Calculate Model Training MSE"
   ]
  },
  {
   "cell_type": "code",
   "execution_count": 27,
   "id": "b6b9c115-68c2-4de2-8013-960b0fe3419a",
   "metadata": {},
   "outputs": [
    {
     "name": "stdout",
     "output_type": "stream",
     "text": [
      "Model Training MSE: 1028796.2941654819\n"
     ]
    }
   ],
   "source": [
    "MSE_train = metrics.mean_squared_error(y_train,y_train_predict) # calculate the training MSE\n",
    "print('Model Training MSE: ' + str(MSE_train))                # print the training MSE"
   ]
  },
  {
   "cell_type": "markdown",
   "id": "c0139ac6-1565-4644-b4e1-5da2e3d6aaea",
   "metadata": {},
   "source": [
    "#### Training Cross Validation Plot"
   ]
  },
  {
   "cell_type": "code",
   "execution_count": 128,
   "id": "29b77738-9ff6-48ef-9d1d-fe0524a97004",
   "metadata": {},
   "outputs": [
    {
     "data": {
      "image/png": "[encoded data removed]",
      "text/plain": [
       "<Figure size 640x480 with 1 Axes>"
      ]
     },
     "metadata": {},
     "output_type": "display_data"
    }
   ],
   "source": [
    "plt.scatter(y_train,y_train_predict,color='darkorange',edgecolor='black',label=r'Training Data') # scatter plot\n",
    "plt.plot([0,max(np.max(y_train_predict),np.max(y_train))],[0,max(np.max(y_train_predict),np.max(y_train))],color='red') # 45 degree line\n",
    "plt.ylabel('Estimated'); plt.xlabel('Truth'); plt.title('Linear Model: Training Data Cross Validation Plot') # labels\n",
    "plt.xlim(0,max(np.max(y_train_predict),np.max(y_train))); plt.ylim(0,max(np.max(y_train_predict),np.max(y_train))) # plot ranges\n",
    "add_grid();                                                   # add major and minor grid lines "
   ]
  },
  {
   "cell_type": "markdown",
   "id": "c67408d4-a149-4d6b-8937-2b189b0d6b52",
   "metadata": {},
   "source": [
    "#### Predict at the Testing Data"
   ]
  },
  {
   "cell_type": "code",
   "execution_count": 131,
   "id": "f148e4b8-17bc-4056-97cc-c1f3cbd905de",
   "metadata": {},
   "outputs": [],
   "source": [
    "y_test_predict = linear_model.predict(X_imputed_norm_test)    # predict over the testing data"
   ]
  },
  {
   "cell_type": "markdown",
   "id": "76187d8f-4869-4ea5-be85-bd89e4fd81d4",
   "metadata": {},
   "source": [
    "#### Calculate Model Testing MSE"
   ]
  },
  {
   "cell_type": "code",
   "execution_count": 134,
   "id": "44c16d96-e24e-4b32-9cd3-9b09a7c6c3c2",
   "metadata": {},
   "outputs": [
    {
     "name": "stdout",
     "output_type": "stream",
     "text": [
      "Model Training MSE: 1465542.4902960763\n"
     ]
    }
   ],
   "source": [
    "MSE_test = metrics.mean_squared_error(y_test,y_test_predict)  # calculate the testing MSE\n",
    "print('Model Training MSE: ' + str(MSE_test))                 # print the testing MSE"
   ]
  },
  {
   "cell_type": "markdown",
   "id": "c42ee23e-a428-4d21-bfb4-d64f9df426aa",
   "metadata": {},
   "source": [
    "#### Testing Cross Validation Plot"
   ]
  },
  {
   "cell_type": "code",
   "execution_count": 137,
   "id": "c67741b7-204e-46e3-ba69-89fef34cd36c",
   "metadata": {},
   "outputs": [
    {
     "data": {
      "image/png": "[encoded data removed]",
      "text/plain": [
       "<Figure size 640x480 with 1 Axes>"
      ]
     },
     "metadata": {},
     "output_type": "display_data"
    }
   ],
   "source": [
    "plt.scatter(y_test,y_test_predict,color='darkorange',edgecolor='black',label=r'Testing Data') # scatter plot\n",
    "plt.plot([0,max(np.max(y_test_predict),np.max(y_test))],[0,max(np.max(y_test_predict),np.max(y_test))],color='red') # 45 degree line\n",
    "plt.ylabel('Estimated'); plt.xlabel('Truth'); plt.title('Linear Model: Testing Data Cross Validation Plot') # labels\n",
    "plt.xlim(0,max(np.max(y_test_predict),np.max(y_test))); plt.ylim(0,max(np.max(y_test_predict),np.max(y_test))) # plot ranges\n",
    "add_grid();                                                   # add major and minor grid lines "
   ]
  },
  {
   "cell_type": "markdown",
   "id": "f90cd21f-06cb-4061-b065-1c12af85abff",
   "metadata": {},
   "source": [
    "#### Train K-Nearest Neighbours Regression Model"
   ]
  },
  {
   "cell_type": "code",
   "execution_count": 82,
   "id": "48f48038-27be-4ed2-a348-b42b90290b5b",
   "metadata": {},
   "outputs": [],
   "source": [
    "n_neighbours = 20; p = 2; weights = 'uniform'                 # model hyperparameters\n",
    "neigh = KNeighborsRegressor(weights = weights,n_neighbors=n_neighbours,p = p) # instantiate the prediction model\n",
    "neigh_fit = neigh.fit(X_imputed_norm_train,y_train)           # train the model with the training data"
   ]
  },
  {
   "cell_type": "markdown",
   "id": "b9b76d60-9be5-40e7-99d1-3d1f826091a2",
   "metadata": {},
   "source": [
    "#### Tune K-Nearest Neighbours Regression Model"
   ]
  },
  {
   "cell_type": "code",
   "execution_count": 101,
   "id": "c9365324-832d-4c34-8ef3-b363de5f595e",
   "metadata": {},
   "outputs": [],
   "source": [
    "k = 1; weights = 'uniform'                                    # set initial, lowest k hyperparameter\n",
    "MSE_knn_list = []; k_list = []                                    # make lists to store the results\n",
    "while k <= 150:                                               # loop over the k hyperparameter\n",
    "    knn_model = KNeighborsRegressor(weights = weights, n_neighbors=k, p = 2).fit(X_imputed_norm_train,y_train) # instandiate and train the model\n",
    "    y_test_pred = knn_model.predict(X_imputed_norm_test)      # predict over the testing cases\n",
    "    MSE = metrics.mean_squared_error(y_test,y_test_pred)      # calculate the MSE testing\n",
    "    MSE_knn_list.append(MSE)                                      # add to the list of MSE\n",
    "    k_list.append(k)                                          # append k to an array for plotting\n",
    "    k = k + 1"
   ]
  },
  {
   "cell_type": "markdown",
   "id": "bcb07496-b15a-4268-b6a9-75b648cc5745",
   "metadata": {},
   "source": [
    "#### Tune a Decision Tree Model\n",
    "\n",
    "I added this here to demonstrate another machine learning prediction model\n",
    "\n",
    "* this is for demonstration and is not used below"
   ]
  },
  {
   "cell_type": "code",
   "execution_count": 159,
   "id": "e20de380-bb7d-4aba-9249-aaaef0e9471a",
   "metadata": {},
   "outputs": [
    {
     "data": {
      "text/plain": [
       "<Figure size 640x480 with 0 Axes>"
      ]
     },
     "metadata": {},
     "output_type": "display_data"
    }
   ],
   "source": [
    "leaf_node = 2                                                 # set initial hyperparameter\n",
    "MSE_tree_list = []; leaf_node_list = []                       # make lists to store the results\n",
    "while leaf_node <= 16:                                        # loop over the number of leaf nodes hyperparameter\n",
    "    tree_model = tree.DecisionTreeRegressor(max_leaf_nodes=leaf_node).fit(X_imputed_norm_train,y_train) # instandiate and train the model\n",
    "    y_test_pred = tree_model.predict(X_imputed_norm_test)     # predict over the testing cases\n",
    "    MSE_tree = metrics.mean_squared_error(y_test,y_test_pred) # calculate the MSE testing\n",
    "    MSE_tree_list.append(MSE_tree)                            # add to the list of MSE\n",
    "    leaf_node_list.append(leaf_node)                          # append leaf node to an array for plotting\n",
    "    leaf_node = leaf_node + 1\n",
    "\n",
    "plt.subplots_adjust(left=0.0, bottom=0.0, right=4.0, top=4.0, wspace=0.2, hspace=0.2); plt.show()"
   ]
  },
  {
   "cell_type": "markdown",
   "id": "ba5e7521-0489-4899-98b7-e13d60cfc535",
   "metadata": {},
   "source": [
    "#### Plot Test Error vs. Hyperparameter"
   ]
  },
  {
   "cell_type": "code",
   "execution_count": 163,
   "id": "67a49ed2-0476-4900-87ae-27d6465a1a97",
   "metadata": {},
   "outputs": [
    {
     "data": {
      "image/png": "[encoded data removed]",
      "text/plain": [
       "<Figure size 640x480 with 1 Axes>"
      ]
     },
     "metadata": {},
     "output_type": "display_data"
    }
   ],
   "source": [
    "plt.subplot(111)\n",
    "plt.scatter(k_list,MSE_knn_list,s=None, c='darkorange', alpha=0.8, linewidths=0.3, edgecolors=\"black\") # scatter plot testing MSE vs. hyperparameter\n",
    "plt.title('KNN: Testing Error vs. Number of Nearest Neighbours'); plt.xlabel('Number of Nearest Neighbours'); plt.ylabel('Mean Square Error'); add_grid()"
   ]
  },
  {
   "cell_type": "markdown",
   "id": "41846f87-cc4d-4ab7-a502-871f58e19349",
   "metadata": {},
   "source": [
    "#### Find Tuned Hyperparameter"
   ]
  },
  {
   "cell_type": "code",
   "execution_count": 166,
   "id": "358bb957-f504-4c80-a37b-7af753886aa9",
   "metadata": {},
   "outputs": [
    {
     "name": "stdout",
     "output_type": "stream",
     "text": [
      "Tuned K is : 22\n"
     ]
    }
   ],
   "source": [
    "tuned_k = k_list[np.argmin(MSE_knn_list)]                         # get the k that minimizes the testing MSE\n",
    "print('Tuned K is : ' + str(tuned_k))"
   ]
  },
  {
   "cell_type": "markdown",
   "id": "2f7608ed-94af-4572-9b47-0978382d0d75",
   "metadata": {},
   "source": [
    "#### Retrain the Tuned Model on all the Data"
   ]
  },
  {
   "cell_type": "code",
   "execution_count": 169,
   "id": "f139bdb5-7e03-4502-9ac4-77ad525c739b",
   "metadata": {},
   "outputs": [],
   "source": [
    "knn_tuned_model = KNeighborsRegressor(weights = weights, n_neighbors=tuned_k, p = 2).fit(X_imputed_norm,y) # retrain the tuned model with all data"
   ]
  },
  {
   "cell_type": "markdown",
   "id": "a1e89c58-2ce0-4e79-8507-687a9fc6468a",
   "metadata": {},
   "source": [
    "#### Load New Data to Apply the Tuned Model"
   ]
  },
  {
   "cell_type": "code",
   "execution_count": 172,
   "id": "76dd8201-e3f2-4351-8060-cc583e7de60f",
   "metadata": {},
   "outputs": [
    {
     "data": {
      "text/html": [
       "<div>\n",
       "<style scoped>\n",
       "    .dataframe tbody tr th:only-of-type {\n",
       "        vertical-align: middle;\n",
       "    }\n",
       "\n",
       "    .dataframe tbody tr th {\n",
       "        vertical-align: top;\n",
       "    }\n",
       "\n",
       "    .dataframe thead th {\n",
       "        text-align: right;\n",
       "    }\n",
       "</style>\n",
       "<table border=\"1\" class=\"dataframe\">\n",
       "  <thead>\n",
       "    <tr style=\"text-align: right;\">\n",
       "      <th></th>\n",
       "      <th>Por</th>\n",
       "      <th>LogPerm</th>\n",
       "      <th>AI</th>\n",
       "      <th>Brittle</th>\n",
       "    </tr>\n",
       "  </thead>\n",
       "  <tbody>\n",
       "    <tr>\n",
       "      <th>0</th>\n",
       "      <td>0.325294</td>\n",
       "      <td>0.437788</td>\n",
       "      <td>0.453731</td>\n",
       "      <td>0.960076</td>\n",
       "    </tr>\n",
       "    <tr>\n",
       "      <th>1</th>\n",
       "      <td>0.342941</td>\n",
       "      <td>0.525346</td>\n",
       "      <td>0.579104</td>\n",
       "      <td>0.480038</td>\n",
       "    </tr>\n",
       "    <tr>\n",
       "      <th>2</th>\n",
       "      <td>0.439412</td>\n",
       "      <td>0.382488</td>\n",
       "      <td>0.814925</td>\n",
       "      <td>0.842894</td>\n",
       "    </tr>\n",
       "    <tr>\n",
       "      <th>3</th>\n",
       "      <td>0.654118</td>\n",
       "      <td>0.824885</td>\n",
       "      <td>0.402985</td>\n",
       "      <td>0.393378</td>\n",
       "    </tr>\n",
       "    <tr>\n",
       "      <th>4</th>\n",
       "      <td>0.645294</td>\n",
       "      <td>0.645161</td>\n",
       "      <td>0.567164</td>\n",
       "      <td>0.000000</td>\n",
       "    </tr>\n",
       "  </tbody>\n",
       "</table>\n",
       "</div>"
      ],
      "text/plain": [
       "        Por   LogPerm        AI   Brittle\n",
       "0  0.325294  0.437788  0.453731  0.960076\n",
       "1  0.342941  0.525346  0.579104  0.480038\n",
       "2  0.439412  0.382488  0.814925  0.842894\n",
       "3  0.654118  0.824885  0.402985  0.393378\n",
       "4  0.645294  0.645161  0.567164  0.000000"
      ]
     },
     "execution_count": 172,
     "metadata": {},
     "output_type": "execute_result"
    }
   ],
   "source": [
    "df_new = pd.read_csv(r\"https://raw.githubusercontent.com/GeostatsGuy/GeoDataSets/master/unconv_MV_v3.csv\") # load the data from my github repo\n",
    "df_new.drop('Prod', axis=1, inplace=True)                     # in actual use, we would not have the truth, so removing it here\n",
    "X_new = df_new.loc[:,selected_predictor_features]             # select the predictor features\n",
    "X_new_imputed = mice_imputer.fit_transform(X_new)             # impute the missing data\n",
    "X_new_imputed = pd.DataFrame(X_new_imputed, columns=X_new.columns, index=X_new.index) # make imputed results into a DataFrame\n",
    "X_new_imputed_norm = normalizer.fit_transform(X_new_imputed)  # normalize the predictor featurs\n",
    "X_new_imputed_norm = pd.DataFrame(X_new_imputed_norm, columns=X_new_imputed.columns)\n",
    "X_new_imputed_norm.head()                                     # preview the DataFrame"
   ]
  },
  {
   "cell_type": "markdown",
   "id": "a75272c8-59ed-4244-b4f4-5984ec810feb",
   "metadata": {},
   "source": [
    "#### Apply Tuned Model to Predict on New Data"
   ]
  },
  {
   "cell_type": "code",
   "execution_count": 175,
   "id": "0b97c1bc-3a2c-4d7b-aa5c-6a389090ad66",
   "metadata": {},
   "outputs": [
    {
     "data": {
      "text/html": [
       "<div>\n",
       "<style scoped>\n",
       "    .dataframe tbody tr th:only-of-type {\n",
       "        vertical-align: middle;\n",
       "    }\n",
       "\n",
       "    .dataframe tbody tr th {\n",
       "        vertical-align: top;\n",
       "    }\n",
       "\n",
       "    .dataframe thead th {\n",
       "        text-align: right;\n",
       "    }\n",
       "</style>\n",
       "<table border=\"1\" class=\"dataframe\">\n",
       "  <thead>\n",
       "    <tr style=\"text-align: right;\">\n",
       "      <th></th>\n",
       "      <th>Well</th>\n",
       "      <th>Por</th>\n",
       "      <th>LogPerm</th>\n",
       "      <th>AI</th>\n",
       "      <th>Brittle</th>\n",
       "      <th>TOC</th>\n",
       "      <th>VR</th>\n",
       "      <th>Predictions</th>\n",
       "    </tr>\n",
       "  </thead>\n",
       "  <tbody>\n",
       "    <tr>\n",
       "      <th>0</th>\n",
       "      <td>1</td>\n",
       "      <td>12.08</td>\n",
       "      <td>1.07</td>\n",
       "      <td>2.80</td>\n",
       "      <td>81.40</td>\n",
       "      <td>1.16</td>\n",
       "      <td>2.31</td>\n",
       "      <td>1421.089666</td>\n",
       "    </tr>\n",
       "    <tr>\n",
       "      <th>1</th>\n",
       "      <td>2</td>\n",
       "      <td>12.38</td>\n",
       "      <td>1.26</td>\n",
       "      <td>3.22</td>\n",
       "      <td>46.17</td>\n",
       "      <td>0.89</td>\n",
       "      <td>1.88</td>\n",
       "      <td>1820.646128</td>\n",
       "    </tr>\n",
       "    <tr>\n",
       "      <th>2</th>\n",
       "      <td>3</td>\n",
       "      <td>14.02</td>\n",
       "      <td>0.95</td>\n",
       "      <td>4.01</td>\n",
       "      <td>72.80</td>\n",
       "      <td>0.89</td>\n",
       "      <td>2.72</td>\n",
       "      <td>1369.546228</td>\n",
       "    </tr>\n",
       "    <tr>\n",
       "      <th>3</th>\n",
       "      <td>4</td>\n",
       "      <td>17.67</td>\n",
       "      <td>1.91</td>\n",
       "      <td>2.63</td>\n",
       "      <td>39.81</td>\n",
       "      <td>1.08</td>\n",
       "      <td>1.88</td>\n",
       "      <td>3695.727164</td>\n",
       "    </tr>\n",
       "    <tr>\n",
       "      <th>4</th>\n",
       "      <td>5</td>\n",
       "      <td>17.52</td>\n",
       "      <td>1.52</td>\n",
       "      <td>3.18</td>\n",
       "      <td>10.94</td>\n",
       "      <td>1.51</td>\n",
       "      <td>1.90</td>\n",
       "      <td>2123.695889</td>\n",
       "    </tr>\n",
       "  </tbody>\n",
       "</table>\n",
       "</div>"
      ],
      "text/plain": [
       "   Well    Por  LogPerm    AI  Brittle   TOC    VR  Predictions\n",
       "0     1  12.08     1.07  2.80    81.40  1.16  2.31  1421.089666\n",
       "1     2  12.38     1.26  3.22    46.17  0.89  1.88  1820.646128\n",
       "2     3  14.02     0.95  4.01    72.80  0.89  2.72  1369.546228\n",
       "3     4  17.67     1.91  2.63    39.81  1.08  1.88  3695.727164\n",
       "4     5  17.52     1.52  3.18    10.94  1.51  1.90  2123.695889"
      ]
     },
     "execution_count": 175,
     "metadata": {},
     "output_type": "execute_result"
    }
   ],
   "source": [
    "y_new_pred = knn_model.predict(X_new_imputed_norm)            # predict over the testing cases\n",
    "df_new['Predictions'] = y_new_pred\n",
    "df_new.head()                                                 # preview the DataFrame "
   ]
  },
  {
   "cell_type": "markdown",
   "id": "21ee66ab-37a3-4fa4-aa4f-656b645976e1",
   "metadata": {},
   "source": [
    "#### Comments\n",
    "\n",
    "These are some basic code snipets for predictive machine learning in Python. Much more could be done and discussed, I have many more resources. Check out my [shared resource inventory](https://michaelpyrcz.com/my-resources) and the YouTube lecture links at the start of this chapter with resource links in the videos' descriptions.\n",
    "\n",
    "I hope this is helpful,\n",
    "\n",
    "*Michael*\n",
    "\n",
    "#### About the Author\n",
    "\n",
    "<figure style=\"text-align: center;\">\n",
    "  <img src=\"_static/intro/michael_pyrcz_officeshot_jacket.jpg\" style=\"display: block; margin: 0 auto; width: 70%;\">\n",
    "  <figcaption style=\"text-align: center;\"> Professor Michael Pyrcz in his office on the 40 acres, campus of The University of Texas at Austin.\n",
    "</figcaption>\n",
    "</figure>\n",
    "\n",
    "Michael Pyrcz is a professor in the [Cockrell School of Engineering](https://cockrell.utexas.edu/faculty-directory/alphabetical/p), and the [Jackson School of Geosciences](https://www.jsg.utexas.edu/researcher/michael_pyrcz/), at [The University of Texas at Austin](https://www.utexas.edu/), where he researches and teaches subsurface, spatial data analytics, geostatistics, and machine learning. Michael is also,\n",
    "\n",
    "* the principal investigator of the [Energy Analytics](https://fri.cns.utexas.edu/energy-analytics) freshmen research initiative and a core faculty in the Machine Learn Laboratory in the College of Natural Sciences, The University of Texas at Austin\n",
    "\n",
    "* an associate editor for [Computers and Geosciences](https://www.sciencedirect.com/journal/computers-and-geosciences/about/editorial-board), and a board member for [Mathematical Geosciences](https://link.springer.com/journal/11004/editorial-board), the International Association for Mathematical Geosciences. \n",
    "\n",
    "Michael has written over 70 [peer-reviewed publications](https://scholar.google.com/citations?user=QVZ20eQAAAAJ&hl=en), a [Python package](https://pypi.org/project/geostatspy/) for spatial data analytics, co-authored a textbook on spatial data analytics, [Geostatistical Reservoir Modeling](https://www.amazon.com/Geostatistical-Reservoir-Modeling-Michael-Pyrcz/dp/0199731446) and author of two recently released e-books, [Applied Geostatistics in Python: a Hands-on Guide with GeostatsPy](https://geostatsguy.github.io/GeostatsPyDemos_Book/intro.html) and [Applied Machine Learning in Python: a Hands-on Guide with Code](https://geostatsguy.github.io/MachineLearningDemos_Book/intro.html).\n",
    "\n",
    "All of Michael’s university lectures are available on his [YouTube Channel](https://www.youtube.com/@GeostatsGuyLectures) with links to 100s of Python interactive dashboards and well-documented workflows in over 40 repositories on his [GitHub account](https://github.com/GeostatsGuy), to support any interested students and working professionals with evergreen content. To find out more about Michael’s work and shared educational resources visit his [Website](www.michaelpyrcz.com).\n",
    "\n",
    "#### Want to Work Together?\n",
    "\n",
    "I hope this content is helpful to those that want to learn more about subsurface modeling, data analytics and machine learning. Students and working professionals are welcome to participate.\n",
    "\n",
    "* Want to invite me to visit your company for training, mentoring, project review, workflow design and / or consulting? I'd be happy to drop by and work with you! \n",
    "\n",
    "* Interested in partnering, supporting my graduate student research or my Subsurface Data Analytics and Machine Learning consortium (co-PI is Professor John Foster)? My research combines data analytics, stochastic modeling and machine learning theory with practice to develop novel methods and workflows to add value. We are solving challenging subsurface problems!\n",
    "\n",
    "* I can be reached at mpyrcz@austin.utexas.edu.\n",
    "\n",
    "I'm always happy to discuss,\n",
    "\n",
    "*Michael*\n",
    "\n",
    "Michael Pyrcz, Ph.D., P.Eng. Professor, Cockrell School of Engineering and The Jackson School of Geosciences, The University of Texas at Austin\n",
    "\n",
    "More Resources Available at: [Twitter](https://twitter.com/geostatsguy) | [GitHub](https://github.com/GeostatsGuy) | [Website](http://michaelpyrcz.com) | [GoogleScholar](https://scholar.google.com/citations?user=QVZ20eQAAAAJ&hl=en&oi=ao) | [Geostatistics Book](https://www.amazon.com/Geostatistical-Reservoir-Modeling-Michael-Pyrcz/dp/0199731446) | [YouTube](https://www.youtube.com/channel/UCLqEr-xV-ceHdXXXrTId5ig)  | [Applied Geostats in Python e-book](https://geostatsguy.github.io/GeostatsPyDemos_Book/intro.html) | [Applied Machine Learning in Python e-book](https://geostatsguy.github.io/MachineLearningDemos_Book/) | [LinkedIn](https://www.linkedin.com/in/michael-pyrcz-61a648a1)"
   ]
  }
 ],
 "metadata": {
  "kernelspec": {
   "display_name": "Python 3 (ipykernel)",
   "language": "python",
   "name": "python3"
  },
  "language_info": {
   "codemirror_mode": {
    "name": "ipython",
    "version": 3
   },
   "file_extension": ".py",
   "mimetype": "text/x-python",
   "name": "python",
   "nbconvert_exporter": "python",
   "pygments_lexer": "ipython3",
   "version": "3.12.4"
  }
 },
 "nbformat": 4,
 "nbformat_minor": 5
}
